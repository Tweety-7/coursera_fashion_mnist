{
 "cells": [
  {
   "cell_type": "markdown",
   "metadata": {},
   "source": [
    "# Питон для анализа данных\\НЕДЕЛЯ6/Итоговый проект\\\n",
    "Задание:\n",
    "    ЧАСТЬ 0    \n",
    "    Загрузка данных\n",
    "Перед решением задачи классификации на приведенном наборе данных предлагается нормализовать данные. Датасет доступен для скачивания в формате CSV. В данном случае удобно использовать библиотеку Pandas для загрузки данных.\n",
    "\n",
    "    ЧАСТЬ 1\n",
    "    Логистическая регрессия\n",
    "Для решения задачи классификации предлагается начать с использования логистической регрессии. В данном случае, количество признаков равно 28x28=784, так же мы имеем 60000 объектов в тренировочной выборке. Поэтому рекомендуется использовать tensorflow или keras для выполнения этого задания. Используйте стохастический градиентный спуск (stochastic gradient descent) в качестве алгоритма оптимизации.\n",
    "\n",
    "По своей сути, логистическая регрессия может быть реализована как нейронная сеть без скрытых слоев. В выходном слое содержится количество нейронов, равное количеству классов. В качестве функции активации выходного слоя следует использовать \n",
    "\n",
    "softmax.\n",
    "\n",
    "Обучите логистическую регрессию на тренировочной выборке \n",
    "и оцените качество на тестовой выборке используя метрику\n",
    "accuracy. Постройте график качества модели на валидационной \n",
    "выборке от количества эпох. Для этого вы можете использовать \n",
    "утилиту tensorboard.\n",
    "\n",
    "tensorboard в tensorflow\n",
    "tensorboard в keras\n",
    "    Часть 2\n",
    "    Полносвязная нейронная сеть\n",
    "Далее, попробуйте реализовать полносвязную нейронную сеть с несколькими скрытыми слоями. Обучите модель и посчитайте качество на тестовой выборке. Как оно изменилось в сравнении с логистической регрессией? Как вы можете объяснить этот результат?\n",
    "\n",
    "Часть 3\n",
    "      Сверточная нейронная сеть\n",
    "После этого вам предлагается реализовать сверточную нейронную сеть. В данном случае лучше использовать готовые слои, которые предоставляют keras или tensorflow.\n",
    "\n",
    "Начните с модели с несколькими сверточными слоями. Так же рекомендуется использовать слои суб-дискретизации, например Max Pooling слои. Они понижают размерность сходных данных и выделяют наиболее важные признаки из данных. Посчитайте качество получившейся модели на тестовой выборке. Сравните полученные результаты с результатами полносвязной нейронной сети.\n",
    "\n",
    "Далее, попробуйте увеличить количество слоев в вашей нейронной сети. Достаточно добавить несколько новых сверточных слоев. Проанализируете, как изменилось качество в этом случае.\n",
    "\n",
    "В заключение, рекомендуется попробовать добавить Batch Normalization слои. Обычно они располагаются после сверточных слоев или слоев полносвязной нейронной сети. Обычно они улучшают качество модели, этим объясняется их популярность использования в современных архитектурах нейронных сетей. Однако, это требует проверки для конкретной модели и конкретного набора данных.\n",
    "\n",
    "Ответ\n",
    "В качестве решения приложите архив, содержащий файл решения и все используемые для его работы файлы.Постройте график качества модели на валидационной выборке от количества эпох. Для этого вы можете использовать утилиту tensorboard."
   ]
  },
  {
   "cell_type": "code",
   "execution_count": 1,
   "metadata": {},
   "outputs": [],
   "source": [
    "import tensorflow as tf\n",
    "from tensorflow import keras \n",
    "import pandas as pd\n",
    "import numpy as np\n",
    "\n",
    "tf.compat.v1.set_random_seed(0)\n",
    "np.random.seed(0)\n",
    "\n",
    "path_to_test_data = 'fashion-mnist_test.csv'\n",
    "path_to_train_data = 'fashion-mnist_train.csv'"
   ]
  },
  {
   "cell_type": "code",
   "execution_count": 2,
   "metadata": {},
   "outputs": [],
   "source": [
    "# загрузка данных из csv файлов\n",
    "def get_data(path_to_data):\n",
    "    df = pd.read_csv(path_to_data)\n",
    "    y = np.array(df['label'])\n",
    "    X = df[df.columns[1:]].to_numpy()\n",
    "    return X, y\n",
    "\n",
    "# тренировочная:\n",
    "X, y = get_data(path_to_train_data)\n",
    "indices = list(range(len(X)))\n",
    "np.random.seed(7) #набор случ. последовательностей\n",
    "np.random.shuffle(indices) # случ. перестановка\n",
    "i, te_i = indices[10000:], indices[:10000]\n",
    "X_train, X_valid, y_train, y_valid = X[i], X[te_i], y[i], y[te_i]\n",
    "# тестовая\n",
    "X_test, y_test = get_data(path_to_test_data)"
   ]
  },
  {
   "cell_type": "markdown",
   "metadata": {},
   "source": [
    "# Часть 0. нормализация признаков\n",
    "y - перевод в бинарный вид, X - перевод в float16 "
   ]
  },
  {
   "cell_type": "code",
   "execution_count": 3,
   "metadata": {},
   "outputs": [],
   "source": [
    "from tensorflow.keras import utils\n",
    "\n",
    "y_train = utils.to_categorical(y_train)\n",
    "y_valid = utils.to_categorical(y_valid)\n",
    "y_test = utils.to_categorical(y_test)\n",
    "\n",
    "X_train = X_train.astype('float32') / 255\n",
    "X_valid = X_valid.astype('float32') / 255\n",
    "X_test = X_test.astype('float32') / 255"
   ]
  },
  {
   "cell_type": "markdown",
   "metadata": {},
   "source": [
    "# Часть 1. Логистическая регрессия\n",
    "\n",
    " https://keras.io/guides/sequential_model/\n",
    "categorical_crossentropy - функция потерь\n",
    "https://www.tensorflow.org/api_docs/python/tf/keras/layers/Dense\n"
   ]
  },
  {
   "cell_type": "code",
   "execution_count": 4,
   "metadata": {},
   "outputs": [],
   "source": [
    "# from keras.models import Sequential\n",
    "from tensorflow.keras import Sequential\n",
    "from tensorflow.keras.layers import Dense\n",
    "\n",
    "def logistic_regression():\n",
    "    model = Sequential()\n",
    "#     model = keras.Sequential()\n",
    "    model.add(Dense(10, input_shape=(784,), activation='softmax'))\n",
    "    model.compile(loss='categorical_crossentropy', optimizer='sgd', metrics=['accuracy'])\n",
    "    return model"
   ]
  },
  {
   "cell_type": "code",
   "execution_count": 13,
   "metadata": {},
   "outputs": [
    {
     "name": "stdout",
     "output_type": "stream",
     "text": [
      "WARNING:tensorflow:Callbacks method `on_train_batch_end` is slow compared to the batch time (batch time: 0.0012s vs `on_train_batch_end` time: 0.0211s). Check your callbacks.\n"
     ]
    }
   ],
   "source": [
    "from tensorflow.keras.callbacks import TensorBoard\n",
    "model = logistic_regression()\n",
    "m = model.fit(X_train, y_train, epochs=42, \n",
    "\n",
    "              validation_data=(X_valid, y_valid),\n",
    "              verbose=0,\n",
    "              callbacks=[TensorBoard('./logs/log_regr/')])\n",
    "\n",
    "#Для запуска в терменале тек. директории tensorboard \n",
    "# --logdir ./log/log_regr/"
   ]
  },
  {
   "cell_type": "code",
   "execution_count": 14,
   "metadata": {},
   "outputs": [
    {
     "name": "stdout",
     "output_type": "stream",
     "text": [
      "Logistic Regression, score: 0.856\n"
     ]
    },
    {
     "data": {
      "image/png": "[encoded data removed]",
      "text/plain": [
       "<Figure size 432x288 with 1 Axes>"
      ]
     },
     "metadata": {
      "needs_background": "light"
     },
     "output_type": "display_data"
    }
   ],
   "source": [
    "from matplotlib import pyplot as plt\n",
    "\n",
    "m, score = model.evaluate(X_test, y_test, verbose=0)\n",
    "print(\"Logistic Regression, score: {0:.3f}\".format(score))\n",
    "\n",
    "df = pd.read_csv('plot_data.csv')\n",
    "x, y = df[['Step']].to_numpy(), df[['Value']].to_numpy()\n",
    "plt.title('accuracy')\n",
    "plt.xlabel('x')\n",
    "plt.ylabel('y')\n",
    "plt.plot(x, y, '--o')\n",
    "# Качество на нетестовой выборке после обучения 42 эпох \n",
    "plt.show()"
   ]
  },
  {
   "cell_type": "markdown",
   "metadata": {},
   "source": [
    "# Часть 2. Полносвязная нейронная сеть"
   ]
  },
  {
   "cell_type": "markdown",
   "metadata": {},
   "source": [
    "Реализуем полносвязную сверточную сеть с несколькими скрытыми слоями. оптимизптор = adadelta\n",
    "https://keras.io/api/optimizers/adadelta/\n"
   ]
  },
  {
   "cell_type": "code",
   "execution_count": 20,
   "metadata": {},
   "outputs": [],
   "source": [
    "def get_neural_network():\n",
    "    model = Sequential()\n",
    "    model.add(Dense(128, input_shape=(784,), activation='softmax'))\n",
    "    model.add(Dense(32, activation='softmax'))\n",
    "    model.add(Dense(10, activation='softmax'))\n",
    "    model.compile(loss='categorical_crossentropy', optimizer='adadelta', metrics=['accuracy'])\n",
    "    return model\n",
    "\n",
    "model = get_neural_network()"
   ]
  },
  {
   "cell_type": "code",
   "execution_count": 42,
   "metadata": {},
   "outputs": [
    {
     "name": "stdout",
     "output_type": "stream",
     "text": [
      "WARNING:tensorflow:Automatic model reloading for interrupted job was removed from the `ModelCheckpoint` callback in multi-worker mode, please use the `keras.callbacks.experimental.BackupAndRestore` callback instead. See this tutorial for details: https://www.tensorflow.org/tutorials/distribute/multi_worker_with_keras#backupandrestore_callback.\n"
     ]
    }
   ],
   "source": [
    "# ОБбучение полносвязной НС\n",
    "from tensorflow.keras.callbacks import ModelCheckpoint\n",
    "# обучим на тренировочной выборке за 42 эпох\n",
    "model_checkpoint = ModelCheckpoint('nn.h5', \n",
    "                                   save_best_only=True, \n",
    "                                   save_weights_only=True,\n",
    "                                   mode='max',\n",
    "                                   monitor='val_accuracy')\n",
    "m = model.fit(X_train, y_train, epochs=42, \n",
    "              validation_data=(X_valid, y_valid),\n",
    "              verbose=0,\n",
    "              callbacks=[model_checkpoint, TensorBoard('./logs/nn/')])"
   ]
  },
  {
   "cell_type": "code",
   "execution_count": 43,
   "metadata": {},
   "outputs": [
    {
     "name": "stdout",
     "output_type": "stream",
     "text": [
      "Fully-Connected neural network, score: 0.100\n"
     ]
    }
   ],
   "source": [
    "#веса лучшего состояния\n",
    "model.load_weights('nn.h5')\n",
    "m, score = model.evaluate(X_test, y_test, verbose=0)\n",
    "print(\"Fully-Connected neural network, score: {0:.3f}\".format(score))"
   ]
  },
  {
   "cell_type": "markdown",
   "metadata": {},
   "source": [
    "# Часть 3. Сверточная нейронная сеть"
   ]
  },
  {
   "cell_type": "code",
   "execution_count": 36,
   "metadata": {},
   "outputs": [],
   "source": [
    "# Новый оазмер данных для сверточной НС\n",
    "X_train = X_train.reshape(50000, 28, 28, 1)\n",
    "X_valid = X_valid.reshape(10000, 28, 28, 1)\n",
    "X_test = X_test.reshape(10000, 28, 28, 1)"
   ]
  },
  {
   "cell_type": "code",
   "execution_count": 37,
   "metadata": {},
   "outputs": [],
   "source": [
    "from tensorflow.keras.layers import Conv2D, MaxPooling2D, Flatten\n",
    "\n",
    "# добавление готовых слоёв\n",
    "def get_conv_net():\n",
    "    model = tf.keras.Sequential()\n",
    "    model.add(Conv2D(32, (3,3), input_shape=(28, 28, 1), activation='softmax'))\n",
    "    model.add(MaxPooling2D((2,2)))\n",
    "    model.add(Conv2D(64, (3,3), activation='softmax'))\n",
    "    model.add(MaxPooling2D((2,2)))\n",
    "    model.add(Flatten())\n",
    "    model.add(Dense(128, activation='softmax'))\n",
    "    model.add(Dense(32, activation='softmax'))\n",
    "    model.add(Dense(10, activation='softmax'))\n",
    "    model.compile(loss='categorical_crossentropy', optimizer='adadelta', metrics=['accuracy'])\n",
    "    return model\n",
    "\n",
    "model = get_conv_net()"
   ]
  },
  {
   "cell_type": "markdown",
   "metadata": {},
   "source": [
    "Обучение сверточной НС."
   ]
  },
  {
   "cell_type": "code",
   "execution_count": 38,
   "metadata": {},
   "outputs": [
    {
     "name": "stdout",
     "output_type": "stream",
     "text": [
      "WARNING:tensorflow:Automatic model reloading for interrupted job was removed from the `ModelCheckpoint` callback in multi-worker mode, please use the `keras.callbacks.experimental.BackupAndRestore` callback instead. See this tutorial for details: https://www.tensorflow.org/tutorials/distribute/multi_worker_with_keras#backupandrestore_callback.\n",
      "WARNING:tensorflow:Callbacks method `on_train_batch_end` is slow compared to the batch time (batch time: 0.0358s vs `on_train_batch_end` time: 0.0551s). Check your callbacks.\n"
     ]
    }
   ],
   "source": [
    "model_checkpoint = ModelCheckpoint('cnn-1.h5', \n",
    "                                   save_best_only=True, \n",
    "                                   save_weights_only=True,\n",
    "                                   mode='max',\n",
    "                                   monitor='val_accuracy')\n",
    "m = model.fit(X_train, y_train, epochs=15, \n",
    "              validation_data=(X_valid, y_valid),\n",
    "              verbose=0,\n",
    "              callbacks=[model_checkpoint, TensorBoard('./logs/cnn-1/')])"
   ]
  },
  {
   "cell_type": "markdown",
   "metadata": {},
   "source": [
    "В результате, качество сверточные нейронной сети на тестовых данных примерно на 2% процента выше полносвязной нейронной сети."
   ]
  },
  {
   "cell_type": "code",
   "execution_count": 44,
   "metadata": {},
   "outputs": [
    {
     "name": "stdout",
     "output_type": "stream",
     "text": [
      "cnn 1, params: 228202\n",
      "cnn 1, score: 0.100\n"
     ]
    }
   ],
   "source": [
    "model.load_weights('cnn-1.h5')\n",
    "_, score = model.evaluate(X_test, y_test, verbose=0)\n",
    "print(\"cnn 1, params: %d\" % model.count_params())\n",
    "print(\"cnn 1, score: {0:.3f}\".format(score))"
   ]
  },
  {
   "cell_type": "markdown",
   "metadata": {},
   "source": [
    "Попробуем сделать нашу сверточную нейронную сеть немного глубже. Для этого добавим несколько сверточных слоев."
   ]
  },
  {
   "cell_type": "code",
   "execution_count": 45,
   "metadata": {},
   "outputs": [],
   "source": [
    "def get_another_conv_net(optimizer='adadelta'):\n",
    "    model = Sequential()\n",
    "    model.add(Conv2D(32, (3,3), input_shape=(28, 28, 1), activation='softmax'))\n",
    "    model.add(Conv2D(32, (3,3), activation='softmax'))\n",
    "    model.add(MaxPooling2D((2,2)))\n",
    "    model.add(Conv2D(64, (3,3), activation='softmax'))\n",
    "    model.add(Conv2D(64, (3,3), activation='softmax'))\n",
    "    model.add(MaxPooling2D((2,2)))\n",
    "    model.add(Flatten())\n",
    "    model.add(Dense(128, activation='softmax'))\n",
    "    model.add(Dense(32, activation='softmax'))\n",
    "    model.add(Dense(10, activation='softmax'))\n",
    "    model.compile(loss='categorical_crossentropy', optimizer=optimizer, metrics=['accuracy'])\n",
    "    return model\n",
    "\n",
    "model = get_another_conv_net()"
   ]
  },
  {
   "cell_type": "code",
   "execution_count": 46,
   "metadata": {},
   "outputs": [
    {
     "name": "stdout",
     "output_type": "stream",
     "text": [
      "WARNING:tensorflow:Automatic model reloading for interrupted job was removed from the `ModelCheckpoint` callback in multi-worker mode, please use the `keras.callbacks.experimental.BackupAndRestore` callback instead. See this tutorial for details: https://www.tensorflow.org/tutorials/distribute/multi_worker_with_keras#backupandrestore_callback.\n"
     ]
    }
   ],
   "source": [
    "# Обучение сверточной нейронной сети\n",
    "model_checkpoint = ModelCheckpoint('cnn-2.h5', \n",
    "                                   save_best_only=True, \n",
    "                                   save_weights_only=True,\n",
    "                                   mode='max',\n",
    "                                   monitor='val_accuracy')\n",
    "m = model.fit(X_train, y_train, epochs=15, \n",
    "              validation_data=(X_valid, y_valid),\n",
    "              verbose=0,\n",
    "              callbacks=[model_checkpoint, TensorBoard('./logs/cnn-2/')])"
   ]
  },
  {
   "cell_type": "code",
   "execution_count": 48,
   "metadata": {},
   "outputs": [
    {
     "name": "stdout",
     "output_type": "stream",
     "text": [
      "cnn 2, params: 200650\n",
      "cnn 2, score: 0.100\n"
     ]
    }
   ],
   "source": [
    "model.load_weights('cnn-2.h5')\n",
    "_, score = model.evaluate(X_test, y_test, verbose=0)\n",
    "print(\"cnn 2, params: %d\" % model.count_params())\n",
    "print(\"cnn 2, score: {0:.3f}\".format(score))"
   ]
  },
  {
   "cell_type": "markdown",
   "metadata": {},
   "source": [
    "Добавим Batch Normalization слои в нашу модель после сверточных слоев. Запустим обучение модели."
   ]
  },
  {
   "cell_type": "code",
   "execution_count": 49,
   "metadata": {},
   "outputs": [],
   "source": [
    "\n",
    "from tensorflow.keras.layers import BatchNormalization\n",
    "\n",
    "#Batch Normalization слои в нашу модель после сверточных слоев\n",
    "def get_conv_net_with_batch_norm(optimizer='adadelta'):\n",
    "    model = Sequential()\n",
    "    model.add(Conv2D(32, (3,3), input_shape=(28, 28, 1), activation='softmax'))\n",
    "    model.add(BatchNormalization())\n",
    "    model.add(Conv2D(32, (3,3), activation='softmax'))\n",
    "    model.add(BatchNormalization())\n",
    "    model.add(MaxPooling2D((2,2)))\n",
    "    model.add(Conv2D(64, (3,3), activation='softmax'))\n",
    "    model.add(BatchNormalization())\n",
    "    model.add(Conv2D(64, (3,3), activation='softmax'))\n",
    "    model.add(BatchNormalization())\n",
    "    model.add(MaxPooling2D((2,2)))\n",
    "    model.add(Flatten())\n",
    "    model.add(Dense(128, activation='softmax'))\n",
    "    model.add(Dense(32, activation='softmax'))\n",
    "    model.add(Dense(10, activation='softmax'))\n",
    "    model.compile(loss='categorical_crossentropy', optimizer=optimizer, metrics=['accuracy'])\n",
    "    return model\n",
    "\n",
    "model = get_conv_net_with_batch_norm()"
   ]
  },
  {
   "cell_type": "markdown",
   "metadata": {},
   "source": [
    "### *Обучение сверточной нейронной сети*"
   ]
  },
  {
   "cell_type": "code",
   "execution_count": 50,
   "metadata": {},
   "outputs": [
    {
     "name": "stdout",
     "output_type": "stream",
     "text": [
      "WARNING:tensorflow:Automatic model reloading for interrupted job was removed from the `ModelCheckpoint` callback in multi-worker mode, please use the `keras.callbacks.experimental.BackupAndRestore` callback instead. See this tutorial for details: https://www.tensorflow.org/tutorials/distribute/multi_worker_with_keras#backupandrestore_callback.\n"
     ]
    }
   ],
   "source": [
    "model_checkpoint = ModelCheckpoint('cnn-3.h5', \n",
    "                                   save_best_only=True, \n",
    "                                   save_weights_only=True,\n",
    "                                   mode='max',\n",
    "                                   monitor='val_accuracy')\n",
    "_ = model.fit(X_train, y_train, epochs=15, \n",
    "              validation_data=(X_valid, y_valid),\n",
    "              verbose=0,\n",
    "              callbacks=[model_checkpoint, TensorBoard('./logs/cnn-3/')])"
   ]
  },
  {
   "cell_type": "markdown",
   "metadata": {},
   "source": [
    "качество сверточной нейронной сети на тестовых данных не изменилось"
   ]
  },
  {
   "cell_type": "code",
   "execution_count": 51,
   "metadata": {},
   "outputs": [
    {
     "name": "stdout",
     "output_type": "stream",
     "text": [
      "cnn 3, params: 201418\n",
      "cnn 3, score: 0.100\n"
     ]
    }
   ],
   "source": [
    "model.load_weights('cnn-3.h5')\n",
    "_, score = model.evaluate(X_test, y_test, verbose=0)\n",
    "print(\"cnn 3, params: %d\" % model.count_params())\n",
    "print(\"cnn 3, score: {0:.3f}\".format(score))"
   ]
  },
  {
   "cell_type": "markdown",
   "metadata": {},
   "source": [
    "# Вывод \n",
    "на данных выборках отльчие от применения логистической\n",
    " регрессии и применении выбранных нейронных сетей дало выигрыш в 12 раз. НС между собой, практически не отличаются в точности обрабртки."
   ]
  }
 ],
 "metadata": {
  "kernelspec": {
   "display_name": "Python 3",
   "language": "python",
   "name": "python3"
  },
  "language_info": {
   "codemirror_mode": {
    "name": "ipython",
    "version": 3
   },
   "file_extension": ".py",
   "mimetype": "text/x-python",
   "name": "python",
   "nbconvert_exporter": "python",
   "pygments_lexer": "ipython3",
   "version": "3.8.2"
  },
  "widgets": {
   "application/vnd.jupyter.widget-state+json": {
    "state": {},
    "version_major": 2,
    "version_minor": 0
   }
  }
 },
 "nbformat": 4,
 "nbformat_minor": 2
}
